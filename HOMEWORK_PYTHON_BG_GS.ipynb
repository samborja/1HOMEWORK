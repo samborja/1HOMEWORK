{
 "cells": [
  {
   "cell_type": "code",
   "execution_count": 1,
   "id": "709c65c1",
   "metadata": {},
   "outputs": [
    {
     "name": "stdout",
     "output_type": "stream",
     "text": [
      "False\n",
      "False\n",
      "True\n",
      "False\n",
      "False\n",
      "4\n",
      "0\n",
      "1\n",
      "2\n",
      "0b101\n"
     ]
    }
   ],
   "source": [
    "a = True\n",
    "b = False\n",
    "\n",
    "print(a and b)\n",
    "print((a and b) or b)\n",
    "print((a and b) or not (a and b))\n",
    "print(a and b or not (a or b) or b)\n",
    "print(b and b or not a and (a or b or a) or not (a or b))\n",
    "\n",
    "\n",
    "print(1 << 2)\n",
    "\n",
    "print(1 & 0 | 1 >> 1)\n",
    "\n",
    "print(1 & 0 | 1 >> 0)\n",
    "\n",
    "\n",
    "print(0b101 & 0b111 ^ 0b111 | 0b010)\n",
    "\n",
    "print(bin(5))"
   ]
  },
  {
   "cell_type": "code",
   "execution_count": 1,
   "id": "aab7a4ce",
   "metadata": {
    "scrolled": true
   },
   "outputs": [
    {
     "name": "stdout",
     "output_type": "stream",
     "text": [
      "a = 6\n",
      "b = 2\n",
      "2\n"
     ]
    }
   ],
   "source": [
    "#Допишите функцию, которая принимает 2 числа, сравнивает между собой и возвращает наименьшее\n",
    "\n",
    "a = int(input(\"a = \"))\n",
    "b = int(input(\"b = \"))\n",
    "\n",
    "if a<b:\n",
    "    print(a)\n",
    "else:\n",
    "    print(b)\n"
   ]
  },
  {
   "cell_type": "code",
   "execution_count": 6,
   "id": "a6f75ff6",
   "metadata": {},
   "outputs": [
    {
     "name": "stdout",
     "output_type": "stream",
     "text": [
      "a = 3\n",
      "b = 2\n",
      "c = 1\n",
      "1\n"
     ]
    }
   ],
   "source": [
    "#Допишите функцию, которая принимает 3 числа, сравнивает между собой и возвращает наименьшее.\n",
    "\n",
    "a = int(input(\"a = \"))\n",
    "b = int(input(\"b = \"))\n",
    "c = int(input(\"c = \"))\n",
    "\n",
    "if a < b and a < c:\n",
    "    print(a)\n",
    "elif b < a and a < c:\n",
    "    print(b)\n",
    "else:\n",
    "    print(c)"
   ]
  },
  {
   "cell_type": "code",
   "execution_count": 8,
   "id": "54c6f855",
   "metadata": {},
   "outputs": [
    {
     "name": "stdout",
     "output_type": "stream",
     "text": [
      "a = 2\n",
      "b = 3\n",
      "c = 3\n",
      "3 3\n"
     ]
    }
   ],
   "source": [
    "#Допишите функцию, которая принимает 3 числа, сравнивает между собой и возвращает количество совпадающих чисел. Соответственно, программа может возвращать одно из трех чисел: 3 - если совпадают все, 2 - если совпадают 2 числа, 0 - если все числа различны\n",
    "\n",
    "a = int(input(\"a = \"))\n",
    "b = int(input(\"b = \"))\n",
    "c = int(input(\"c = \"))\n",
    "\n",
    "if a == b and a == c:\n",
    "    print(a, b, c)\n",
    "elif a == b:\n",
    "    print(a, b)\n",
    "elif a == c:\n",
    "    print(a, c)\n",
    "elif c == b:\n",
    "    print(b, c)\n",
    "else:\n",
    "    print(\"Ни один номер не подходит\")"
   ]
  },
  {
   "cell_type": "code",
   "execution_count": 10,
   "id": "593d6805",
   "metadata": {},
   "outputs": [
    {
     "name": "stdout",
     "output_type": "stream",
     "text": [
      "a1 = 4\n",
      "a2 = 5\n",
      "a3 = 6\n",
      "a4 = 7\n",
      "a5 = 8\n",
      "a6 = 9\n",
      "a7 = 10\n",
      "a8 = 11\n",
      "a9 = 12\n",
      "a10 = 15\n",
      "87\n"
     ]
    }
   ],
   "source": [
    "#Допишите функцию, которая принимает массив из 10 чисел и возвращает их сумму.\n",
    "\n",
    "mat = [int(input(\"a1 = \")), int(input(\"a2 = \")), int(input(\"a3 = \")), int(input(\"a4 = \")), int(input(\"a5 = \")), int(input(\"a6 = \")), int(input(\"a7 = \")), int(input(\"a8 = \")), int(input(\"a9 = \")), int(input(\"a10 = \"))]\n",
    "\n",
    "print(sum(mat))"
   ]
  },
  {
   "cell_type": "code",
   "execution_count": 16,
   "id": "e4d12025",
   "metadata": {},
   "outputs": [
    {
     "name": "stdout",
     "output_type": "stream",
     "text": [
      "введите количество шагов 12\n",
      "1  \n",
      "1 2  \n",
      "1 2 3  \n",
      "1 2 3 4  \n",
      "1 2 3 4 5  \n",
      "1 2 3 4 5 6  \n",
      "1 2 3 4 5 6 7  \n",
      "1 2 3 4 5 6 7 8  \n",
      "1 2 3 4 5 6 7 8 9  \n",
      "1 2 3 4 5 6 7 8 9 10  \n",
      "1 2 3 4 5 6 7 8 9 10 11  \n",
      "1 2 3 4 5 6 7 8 9 10 11 12  \n"
     ]
    }
   ],
   "source": [
    "n = int(input(\"введите количество шагов \"))\n",
    "\n",
    "for i in range(1, n + 1):\n",
    "    for j in range(1, i + 1):\n",
    "        print(j, end = \" \")\n",
    "    print(\" \")"
   ]
  },
  {
   "cell_type": "code",
   "execution_count": 2,
   "id": "7565c2c3",
   "metadata": {},
   "outputs": [
    {
     "name": "stdout",
     "output_type": "stream",
     "text": [
      "Введите высоту пирамиды5\n",
      "           \n",
      "        1  \n",
      "      2 2 2  \n",
      "    3 3 3 3 3  \n",
      "  4 4 4 4 4 4 4  \n",
      "5 5 5 5 5 5 5 5 5  \n"
     ]
    }
   ],
   "source": [
    "n = int(input(\"Введите высоту пирамиды\"))\n",
    "\n",
    "for i in range(n + 1):\n",
    "    for j in range(n - i):\n",
    "        print(\" \",end = \" \")\n",
    "    for k in range(2 * i - 1):\n",
    "        print(i, end = \" \")\n",
    "    print(\" \")"
   ]
  },
  {
   "cell_type": "code",
   "execution_count": 3,
   "id": "02193513",
   "metadata": {},
   "outputs": [
    {
     "name": "stdout",
     "output_type": "stream",
     "text": [
      "введите номер: 6\n",
      "             \n",
      "          1  \n",
      "        2 2 2  \n",
      "      3 3 3 3 3  \n",
      "    4 4 4 4 4 4 4  \n",
      "  5 5 5 5 5 5 5 5 5  \n",
      "6 6 6 6 6 6 6 6 6 6 6  \n",
      "  5 5 5 5 5 5 5 5 5  \n",
      "    4 4 4 4 4 4 4  \n",
      "      3 3 3 3 3  \n",
      "        2 2 2  \n",
      "          1  \n"
     ]
    }
   ],
   "source": [
    "n = int(input(\"введите номер: \"))\n",
    "\n",
    "for i in range(n + 1):\n",
    "    for j in range(n - i):\n",
    "        print(\" \",end = \" \")\n",
    "    for k in range(2 * i - 1):\n",
    "        print(i, end = \" \")\n",
    "    print(\" \")\n",
    "for i in range(n - 1, 0, -1):\n",
    "    for j in range(n - i):\n",
    "        print(\" \", end = \" \")\n",
    "    for k in range(2 * i -1):\n",
    "        print(i, end = \" \")\n",
    "    print(\" \")"
   ]
  },
  {
   "cell_type": "code",
   "execution_count": 4,
   "id": "4f99522f",
   "metadata": {},
   "outputs": [
    {
     "name": "stdout",
     "output_type": "stream",
     "text": [
      "Lambdadambda\n",
      "m\n",
      "d\n",
      "['L', 'a', 'm', 'b', 'd']\n",
      "['L', 'a', 'm', 'b', 'd', 'a', 'd', 'a', 'm']\n",
      "a b a a b a\n",
      "d m d d m L\n",
      "['a', 'd', 'b', 'm', 'a', 'd', 'a', 'd', 'b', 'm', 'a', 'L']\n",
      "12\n"
     ]
    }
   ],
   "source": [
    "print(\"Lambdadambda\")\n",
    "a = list('Lambdadambda')\n",
    "b = a[2]\n",
    "c = a[10]\n",
    "d = a[0:5]\n",
    "e = a[0:9]\n",
    "f = a.reverse()\n",
    "g = len(a)\n",
    "\n",
    "print(b)\n",
    "print(c)\n",
    "print(d)\n",
    "print(e)\n",
    "print(a[0], a[2], a[4], a[6], a[8], a[10])\n",
    "print(a[1], a[3], a[5], a[7], a[9], a[11])\n",
    "print(a)\n",
    "print(g)\n"
   ]
  },
  {
   "cell_type": "code",
   "execution_count": 9,
   "id": "feac8cad",
   "metadata": {},
   "outputs": [
    {
     "name": "stdout",
     "output_type": "stream",
     "text": [
      "введите количество элементов: 5\n",
      "Введите каждый элемент: 4\n",
      "Введите каждый элемент: 1\n",
      "Введите каждый элемент: 8\n",
      "Введите каждый элемент: 5\n",
      "Введите каждый элемент: 1\n",
      "4 8 1 "
     ]
    }
   ],
   "source": [
    "lista = []\n",
    "n = int(input(\"введите количество элементов: \"))\n",
    "\n",
    "for i in range(n):\n",
    "    m = int(input(\"Введите каждый элемент: \"))\n",
    "    lista.append(m)\n",
    "for j in range(0, len(lista), 2):\n",
    "    print(lista[j], end = \" \")"
   ]
  },
  {
   "cell_type": "code",
   "execution_count": 10,
   "id": "19d52f6c",
   "metadata": {},
   "outputs": [
    {
     "name": "stdout",
     "output_type": "stream",
     "text": [
      "введите количество элементов: 7\n",
      "Введите каждый элемент: 4\n",
      "Введите каждый элемент: 5\n",
      "Введите каждый элемент: 7\n",
      "Введите каждый элемент: 2\n",
      "Введите каждый элемент: 3\n",
      "Введите каждый элемент: 7\n",
      "Введите каждый элемент: 5\n",
      "[4, 5, 7, 2, 3, 7, 5]\n",
      "7\n"
     ]
    }
   ],
   "source": [
    "lista = []\n",
    "n = int(input(\"введите количество элементов: \"))\n",
    "\n",
    "for i in range(n):\n",
    "    m = int(input(\"Введите каждый элемент: \"))\n",
    "    lista.append(m)\n",
    "\n",
    "print(lista)\n",
    "lista.sort()\n",
    "print(lista[-1])"
   ]
  },
  {
   "cell_type": "code",
   "execution_count": 11,
   "id": "304d1a0b",
   "metadata": {},
   "outputs": [
    {
     "name": "stdout",
     "output_type": "stream",
     "text": [
      "введите количество элементов: 8\n",
      "Введите каждый элемент: 4\n",
      "Введите каждый элемент: 67\n",
      "Введите каждый элемент: 8\n",
      "Введите каждый элемент: 2\n",
      "Введите каждый элемент: 6\n",
      "Введите каждый элемент: 1\n",
      "Введите каждый элемент: 9\n",
      "Введите каждый элемент: 456\n",
      "[4, 67, 8, 2, 6, 1, 9, 456]\n",
      "[1, 2, 4, 6, 8, 9, 67, 456]\n"
     ]
    }
   ],
   "source": [
    "lista = []\n",
    "n = int(input(\"введите количество элементов: \"))\n",
    "\n",
    "for i in range(n):\n",
    "    m = int(input(\"Введите каждый элемент: \"))\n",
    "    lista.append(m)\n",
    "\n",
    "print(lista)\n",
    "lista.sort()\n",
    "print(lista)"
   ]
  },
  {
   "cell_type": "code",
   "execution_count": 1,
   "id": "b23b4f28",
   "metadata": {},
   "outputs": [
    {
     "name": "stdout",
     "output_type": "stream",
     "text": [
      "Имя 1sam\n",
      "Имя 2car\n",
      "Имя 3fel\n",
      "Имя 4dav\n",
      "Имя 5iva\n",
      "Имя: fel\n",
      "его ключ:  2468\n"
     ]
    }
   ],
   "source": [
    "a = {\n",
    "    input(\"Имя 1\") : 1234,\n",
    "    input(\"Имя 2\") : 5678,\n",
    "    input(\"Имя 3\") : 2468,\n",
    "    input(\"Имя 4\") : 1357,\n",
    "    input(\"Имя 5\") : 7913\n",
    "    }\n",
    "\n",
    "b = input(\"Имя: \")\n",
    "\n",
    "print(\"его ключ: \", a[b])"
   ]
  },
  {
   "cell_type": "code",
   "execution_count": 2,
   "id": "41c10172",
   "metadata": {},
   "outputs": [
    {
     "name": "stdout",
     "output_type": "stream",
     "text": [
      "введите значения первой группы: \n",
      "8\n",
      "6\n",
      "4\n",
      "3\n",
      "5\n",
      "введите значения второй группы: \n",
      "5\n",
      "2\n",
      "1\n",
      "9\n",
      "7\n",
      "первая группа {3, 4, 5, 6, 8}\n",
      "Вторая группа {1, 2, 5, 7, 9}\n",
      "разные значения:  [8, 3, 4, 6, 1, 2, 9, 7]\n",
      "количество различных значений:  8\n"
     ]
    }
   ],
   "source": [
    "print(\"введите значения первой группы: \")\n",
    "g_1 = {int(input()), int(input()), int(input()), int(input()), int(input())}\n",
    "\n",
    "print(\"введите значения второй группы: \")\n",
    "g_2 = {int(input()), int(input()), int(input()), int(input()), int(input())}\n",
    "\n",
    "print(\"первая группа\", g_1)\n",
    "print(\"Вторая группа\", g_2)\n",
    "\n",
    "dif = list(g_1 - g_2) + list(g_2 - g_1)\n",
    "\n",
    "print(\"разные значения: \", dif)\n",
    "print(\"количество различных значений: \", len(dif))"
   ]
  },
  {
   "cell_type": "code",
   "execution_count": 4,
   "id": "3eed1c65",
   "metadata": {},
   "outputs": [
    {
     "name": "stdout",
     "output_type": "stream",
     "text": [
      "введите значения первой группы: \n",
      "6\n",
      "3\n",
      "4\n",
      "5\n",
      "8\n",
      "введите значения второй группы: \n",
      "7\n",
      "6\n",
      "4\n",
      "2\n",
      "6\n",
      "первая группа {3, 4, 5, 6, 8}\n",
      "Вторая группа {2, 4, 6, 7}\n",
      "9\n"
     ]
    }
   ],
   "source": [
    "print(\"введите значения первой группы: \")\n",
    "g_1 = {int(input()), int(input()), int(input()), int(input()), int(input())}\n",
    "\n",
    "print(\"введите значения второй группы: \")\n",
    "g_2 = {int(input()), int(input()), int(input()), int(input()), int(input())}\n",
    "\n",
    "print(\"первая группа\", g_1)\n",
    "print(\"Вторая группа\", g_2)\n",
    "\n",
    "suma = list (g_1) + list (g_2)\n",
    "\n",
    "print(len(suma))"
   ]
  }
 ],
 "metadata": {
  "kernelspec": {
   "display_name": "Python 3 (ipykernel)",
   "language": "python",
   "name": "python3"
  },
  "language_info": {
   "codemirror_mode": {
    "name": "ipython",
    "version": 3
   },
   "file_extension": ".py",
   "mimetype": "text/x-python",
   "name": "python",
   "nbconvert_exporter": "python",
   "pygments_lexer": "ipython3",
   "version": "3.9.7"
  }
 },
 "nbformat": 4,
 "nbformat_minor": 5
}
